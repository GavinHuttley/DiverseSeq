{
 "cells": [
  {
   "cell_type": "markdown",
   "metadata": {},
   "source": [
    "# Purpose\n",
    "\n",
    "Evaluate ability of max-divergent to recover known divergent lineages. We generate 4 synthetic lineages (referred to as pools in the code) and check whether the result of `max_divergent` contains one representative of each.\n",
    "\n",
    "# Design\n",
    "\n",
    "We define 4 distinct sequence compositions. We then defined two distinct \"pool\" compositions in which each sequence family was present at equal frequency (termed \"balanced\") or one sequence was very rare (termed \"imbalanced\"). In each scenario, we simulated a total of 50 sequences. This design is intended to assess whether rare sequences can be recovered.\n",
    "\n",
    "We expect `divergent max` to identify a set of precisely 4 sequences with one representative of each pool. We examined the influence of statistic choice."
   ]
  },
  {
   "cell_type": "markdown",
   "metadata": {},
   "source": [
    "# Result summary\n",
    "\n",
    "Aside from using the `total_jsd` statistic, perfect recall (one representative from each of 4 distinct pools) was observed for all cases."
   ]
  },
  {
   "cell_type": "code",
   "execution_count": null,
   "metadata": {},
   "outputs": [],
   "source": [
    "import project_path\n",
    "from cogent3 import load_table\n",
    "\n",
    "write_pdf = project_path.pdf_writer()\n",
    "\n",
    "table = load_table(project_path.RESULT_DIR / \"synthetic_known_summary.tsv\", digits=2)\n",
    "table"
   ]
  },
  {
   "cell_type": "code",
   "execution_count": null,
   "metadata": {},
   "outputs": [],
   "source": [
    "import plotly.express as px\n",
    "\n",
    "# Define custom colors for cov and std\n",
    "cols = {\n",
    "    \"stdev\": \"blue\",\n",
    "    \"cov\": \"red\",\n",
    "}\n",
    "\n",
    "# Create a grouped bar chart\n",
    "fig = px.bar(\n",
    "    table.to_pandas(),\n",
    "    x=\"seq_len\",  # Group bars by seq_len\n",
    "    y=\"correct%\",  # Height of bars\n",
    "    color=\"stat\",  # Set legend by stat (cov or std)\n",
    "    facet_row=\"pool\",  # Separate plots by pool (balanced, imbalanced)\n",
    "    error_y=\"stdv(correct)\",  # Add error bars from the stdv(correct) column\n",
    "    category_orders={\"seq_len\": [200, 1000]},  # Order bars by seq_len\n",
    "    color_discrete_map=cols,  # Set custom colors for cov and std\n",
    "    barmode=\"group\",  # Place bars beside each other\n",
    "    opacity=0.6,\n",
    "    labels={\"correct%\": \"Correct %\", \"seq_len\": \"Sequence Length\", \"stat\": \"Statistic\"},\n",
    ")\n",
    "\n",
    "# Adjust subplot titles to appear on the right border\n",
    "fig.for_each_annotation(lambda a: a.update(textangle=0, x=1.02, xanchor=\"left\"))\n",
    "\n",
    "# Update layout for better visualization\n",
    "tickfont = dict(size=20)\n",
    "titlefont = dict(size=26)\n",
    "legend = dict(title=\"\", font=dict(size=28), tracegroupgap=10)\n",
    "\n",
    "fig.update_layout(\n",
    "    legend=legend,\n",
    "    xaxis_title=\"Sequence Length\",\n",
    "    yaxis_title=\"Correct %\",\n",
    "    width=1200,\n",
    "    height=800,\n",
    ")\n",
    "\n",
    "fig.update_yaxes(tickfont=tickfont, row=1, col=1, title_font=titlefont)\n",
    "fig.update_yaxes(tickfont=tickfont, row=2, col=1, title_font=titlefont)\n",
    "fig.update_xaxes(title_font=titlefont, tickfont=tickfont)\n",
    "\n",
    "d_jsd = \"δ<sub>JSD</sub>\"\n",
    "stat_names = dict(stdev=f\"std({d_jsd})\", cov=f\"cov({d_jsd})\", JSD=r\"JSD(<b>F</b>)\")\n",
    "\n",
    "for name in [\"stdev\", \"cov\"]:\n",
    "    fig.update_traces(selector={\"name\": name}, name=stat_names[name])\n",
    "\n",
    "for ann in fig.layout.annotations:\n",
    "    ann[\"textangle\"] = 90\n",
    "    ann[\"font\"].update(tickfont)\n",
    "    ann[\"x\"] = 0.99\n",
    "\n",
    "# Show the plot\n",
    "# fig.show(renderer=\"notebook\")\n",
    "\n",
    "outpath = project_path.FIG_DIR / \"synthetic_known_bar.pdf\"\n",
    "write_pdf(fig, outpath)"
   ]
  }
 ],
 "metadata": {
  "kernelspec": {
   "display_name": "dvgt313",
   "language": "python",
   "name": "python3"
  },
  "language_info": {
   "codemirror_mode": {
    "name": "ipython",
    "version": 3
   },
   "file_extension": ".py",
   "mimetype": "text/x-python",
   "name": "python",
   "nbconvert_exporter": "python",
   "pygments_lexer": "ipython3",
   "version": "3.13.1"
  },
  "orig_nbformat": 4
 },
 "nbformat": 4,
 "nbformat_minor": 2
}
